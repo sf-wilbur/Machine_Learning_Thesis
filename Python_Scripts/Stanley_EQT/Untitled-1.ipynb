{
 "cells": [
  {
   "cell_type": "code",
   "execution_count": 60,
   "metadata": {},
   "outputs": [
    {
     "name": "stdout",
     "output_type": "stream",
     "text": [
      "Inventory created at 2022-04-10T03:43:58.047000Z\n",
      "\tCreated by: IRIS WEB SERVICE: fdsnws-station | version: 1.1.48\n",
      "\t\t    http://service.iris.edu/fdsnws/station/1/query?starttime=2014-01-01...\n",
      "\tSending institution: IRIS-DMC (IRIS-DMC)\n",
      "\tContains:\n",
      "\t\tNetworks (4):\n",
      "\t\t\tGS, IE, SY, UU\n",
      "\t\tStations (9):\n",
      "\t\t\tGS.ID01 (Challis, ID, approx 6.5 mi South off of Rte 93)\n",
      "\t\t\tGS.ID02 (Challis, ID, 7.5 mi N off of Rte 93)\n",
      "\t\t\tGS.ID03 (East of Rte 461 near Challis, ID, USA)\n",
      "\t\t\tGS.ID04 (Mogan Creek Rd (Rte 129), ID, USA)\n",
      "\t\t\tIE.DVCI (Devils Canyon)\n",
      "\t\t\tSY.H13A (H13A synthetic)\n",
      "\t\t\tUU.ASI1 (Bonanza, ID, U.S.A.)\n",
      "\t\t\tUU.ASI2 (Darling Creek, Challis, ID, USA)\n",
      "\t\t\tUU.ASI3 (Challis, ID, USA)\n",
      "\t\tChannels (0):\n",
      "\n"
     ]
    },
    {
     "ename": "AttributeError",
     "evalue": "'Network' object has no attribute 'latitude'",
     "output_type": "error",
     "traceback": [
      "\u001b[0;31m---------------------------------------------------------------------------\u001b[0m",
      "\u001b[0;31mAttributeError\u001b[0m                            Traceback (most recent call last)",
      "\u001b[1;32mUntitled-1.ipynb Cell 1'\u001b[0m in \u001b[0;36m<module>\u001b[0;34m\u001b[0m\n\u001b[1;32m      <a href='vscode-notebook-cell:Untitled-1.ipynb?jupyter-notebook#ch0000000untitled?line=3'>4</a>\u001b[0m \u001b[39mprint\u001b[39m(inv)\n\u001b[1;32m      <a href='vscode-notebook-cell:Untitled-1.ipynb?jupyter-notebook#ch0000000untitled?line=4'>5</a>\u001b[0m Network \u001b[39m=\u001b[39m inv[\u001b[39m0\u001b[39m:\u001b[39m4\u001b[39m]\n\u001b[0;32m----> <a href='vscode-notebook-cell:Untitled-1.ipynb?jupyter-notebook#ch0000000untitled?line=5'>6</a>\u001b[0m station1 \u001b[39m=\u001b[39m Network[\u001b[39m0\u001b[39;49m]\u001b[39m.\u001b[39;49mlatitude\n\u001b[1;32m      <a href='vscode-notebook-cell:Untitled-1.ipynb?jupyter-notebook#ch0000000untitled?line=6'>7</a>\u001b[0m station2 \u001b[39m=\u001b[39m Network[\u001b[39m2\u001b[39m]\n\u001b[1;32m      <a href='vscode-notebook-cell:Untitled-1.ipynb?jupyter-notebook#ch0000000untitled?line=7'>8</a>\u001b[0m channel \u001b[39m=\u001b[39m station1[\u001b[39m0\u001b[39m]\n",
      "\u001b[0;31mAttributeError\u001b[0m: 'Network' object has no attribute 'latitude'"
     ]
    }
   ],
   "source": [
    "from obspy.io.stationxml.core import _read_stationxml\n",
    "from obspy import read_inventory\n",
    "inv = read_inventory(\"./Stanley_EQT/Challis_stations.xml\", format = \"STATIONXML\")\n",
    "print(inv)\n",
    "Network = inv[0:4]\n",
    "station1 = Network[0]\n",
    "station2 = Network[2]\n",
    "channel = station1[0]\n",
    "start_date = station1.start_date\n",
    "channel1 = station2[0]\n",
    "start_date2 = channel1.start_date\n",
    "print(start_date, start_date2)\n",
    "print(Network)\n",
    "\n",
    "        # EndDate = inv.Station.termination_date\n",
    "        # cat_c = _read_stationxml(\"Challis_stations.xml\")\n",
    "        # print(cat_c)"
   ]
  }
 ],
 "metadata": {
  "interpreter": {
   "hash": "bf841e00bf5dd238bf562aea73968a56f70c525eef5c8341a167f84de60195f3"
  },
  "kernelspec": {
   "display_name": "Python 3.9.7 ('MyEnv')",
   "language": "python",
   "name": "python3"
  },
  "language_info": {
   "codemirror_mode": {
    "name": "ipython",
    "version": 3
   },
   "file_extension": ".py",
   "mimetype": "text/x-python",
   "name": "python",
   "nbconvert_exporter": "python",
   "pygments_lexer": "ipython3",
   "version": "3.9.7"
  },
  "orig_nbformat": 4
 },
 "nbformat": 4,
 "nbformat_minor": 2
}
